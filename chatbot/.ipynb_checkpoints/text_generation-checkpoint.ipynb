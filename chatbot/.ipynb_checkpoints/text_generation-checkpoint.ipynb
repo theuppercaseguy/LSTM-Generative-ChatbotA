{
 "cells": [
  {
   "cell_type": "markdown",
   "id": "7UFGR24pLjj8",
   "metadata": {
    "id": "7UFGR24pLjj8"
   },
   "source": [
    "# LINKS\n",
    "not uploading the data set file, cause its of 172 mb\n",
    "\n",
    "link(1): https://www.kaggle.com/datasets/gpreda/lionel-messi-tweets?select=messi_tweets.csv\n",
    "\n",
    "link(2): https://www.kaggle.com/datasets/ibrahimserouis99/twitter-sentiment-analysis-and-word-embeddings\n",
    "\n",
    "Colab Link: https://colab.research.google.com/drive/1Yvndl4Ca65a7wieC9n55Soy7fJ6zio-x?usp=sharing\n"
   ]
  },
  {
   "cell_type": "code",
   "execution_count": 1,
   "id": "013e36d1",
   "metadata": {
    "id": "013e36d1"
   },
   "outputs": [],
   "source": [
    "import random,pickle,numpy as np,pandas as pd\n",
    "from nltk.tokenize import RegexpTokenizer\n",
    "from tensorflow.keras.models import Sequential,load_model\n",
    "from tensorflow.keras.layers import LSTM,Dense,Activation,Dropout,Embedding,Bidirectional\n",
    "from tensorflow.keras.optimizers import RMSprop,Adam\n",
    "import re,csv,random,string\n",
    "import tensorflow as tf\n",
    "from keras.callbacks import EarlyStopping\n",
    "from keras.metrics import top_k_categorical_accuracy\n",
    "from tensorflow.keras.preprocessing.text import Tokenizer\n",
    "from tensorflow.keras.preprocessing.sequence import pad_sequences\n",
    "from tensorflow.keras import regularizers\n",
    "\n",
    "\n"
   ]
  },
  {
   "cell_type": "markdown",
   "id": "xciyXDMZetkL",
   "metadata": {
    "id": "xciyXDMZetkL"
   },
   "source": [
    "**Data PreProcessing**"
   ]
  },
  {
   "cell_type": "code",
   "execution_count": null,
   "id": "5c2e0260",
   "metadata": {
    "id": "5c2e0260"
   },
   "outputs": [],
   "source": [
    "##         DONT RUN THIS CELL\n",
    "#          already preprocessed\n",
    "\n",
    "def strip_all_entities(text):\n",
    "    entity_prefixes = ['@','#']\n",
    "    for separator in  string.punctuation:\n",
    "        if separator not in entity_prefixes :\n",
    "            text = text.replace(separator,' ')\n",
    "    words = []\n",
    "    for word in text.split():\n",
    "        word = word.strip()\n",
    "        if word:\n",
    "            if word[0] not in entity_prefixes:\n",
    "                words.append(word)\n",
    "    return ' '.join(words)\n",
    "\n",
    "def preproc_data(text_df,txt_size):\n",
    "    text = list(text_df[\"content\"].values)\n",
    "    joined_text = \" \".join(map(str,text))\n",
    "    partial_txt = joined_text[:txt_size].lower()\n",
    "\n",
    "\n",
    "    emoji_pattern = re.compile(\"[\"\n",
    "            u\"\\U0001F600-\\U0001F64F\"  # emoticons\n",
    "            u\"\\U0001F300-\\U0001F5FF\"  # symbols & pictographs\n",
    "            u\"\\U0001F680-\\U0001F6FF\"  # transport & map symbols\n",
    "            u\"\\U0001F1E0-\\U0001F1FF\"  # flags (iOS)\n",
    "                               \"]+\", flags=re.UNICODE)\n",
    "\n",
    "    partial_txt = re.sub(r'http\\S+', '', partial_txt) #removing links\n",
    "    partial_txt = strip_all_entities(partial_txt)#no hashtags or @'s\n",
    "    partial_txt = emoji_pattern.sub(r'', partial_txt) # no emoji\n",
    "    partial_txt = re.sub(r'[^A-Za-z0-9 ]+', '', partial_txt)\n",
    "    \n",
    "    return partial_txt"
   ]
  },
  {
   "cell_type": "code",
   "execution_count": null,
   "id": "0135cc26",
   "metadata": {
    "id": "0135cc26"
   },
   "outputs": [],
   "source": [
    "##          DONT RUN THIS CELL\n",
    "\n",
    "text_df = pd.read_csv('datasets/Cleaned_messi_tweets.csv', on_bad_lines='skip',quoting=csv.QUOTE_NONE)\n",
    "max_len = len(text_df[\"content\"])\n",
    "partial_txt = preproc_data(text_df,max_len-100000 )"
   ]
  },
  {
   "cell_type": "markdown",
   "id": "XbqUg94_fWCi",
   "metadata": {
    "id": "XbqUg94_fWCi"
   },
   "source": [
    "**Tokenization**"
   ]
  },
  {
   "cell_type": "code",
   "execution_count": 2,
   "id": "31KXNfw21yQT",
   "metadata": {
    "id": "31KXNfw21yQT"
   },
   "outputs": [],
   "source": [
    "##          RUN THIS CELL[:398800]\n",
    "partial_txt = open(\"datasets/messi_txt_data.txt\",'r').read()[:398800]"
   ]
  },
  {
   "cell_type": "code",
   "execution_count": 3,
   "id": "680d0e76",
   "metadata": {
    "colab": {
     "base_uri": "https://localhost:8080/"
    },
    "id": "680d0e76",
    "outputId": "eca3c0a9-3105-4d2b-d143-355dbae8ff63"
   },
   "outputs": [
    {
     "name": "stdout",
     "output_type": "stream",
     "text": [
      "Total 6873 Tokens: \n",
      "\n"
     ]
    }
   ],
   "source": [
    "##          RUN THIS CELL\n",
    "\n",
    "tokenizer = RegexpTokenizer(r\"\\w+\")                            \n",
    "tokens = tokenizer.tokenize(partial_txt)\n",
    "\n",
    "uniq_tokens = np.unique(tokens)\n",
    "uniq_tokens_idx = {token: idx for idx,token in enumerate(uniq_tokens)}\n",
    "\n",
    "print(f\"Total {len(uniq_tokens_idx)} Tokens: \\n\")"
   ]
  },
  {
   "cell_type": "code",
   "execution_count": 4,
   "id": "fada7cb3",
   "metadata": {
    "id": "fada7cb3"
   },
   "outputs": [],
   "source": [
    "##          RUN THIS CELL\n",
    "\n",
    "n_words = 10 #number of words to look at for context\n",
    "input_words =[]\n",
    "next_words = []\n",
    "for i in range(len(tokens)-n_words):\n",
    "    input_words.append(tokens[i:i+n_words])\n",
    "    next_words.append(tokens[i+n_words])\n",
    "\n",
    "X = np.zeros((len(input_words),n_words,len(uniq_tokens)), dtype=bool)\n",
    "Y = np.zeros((len(next_words),len(uniq_tokens)), dtype=bool)\n",
    "\n",
    "for i,words in enumerate(input_words):\n",
    "    for j, word in enumerate(words):\n",
    "        X[i,j,uniq_tokens_idx[word]] = 1\n",
    "    Y[i,uniq_tokens_idx[next_words[i]]] = 1\n",
    "\n"
   ]
  },
  {
   "cell_type": "code",
   "execution_count": null,
   "id": "SrNLPzDOFwHG",
   "metadata": {
    "colab": {
     "base_uri": "https://localhost:8080/"
    },
    "collapsed": true,
    "id": "SrNLPzDOFwHG",
    "outputId": "943a4d4b-b8f8-440e-88fc-9d2de2a294a7"
   },
   "outputs": [
    {
     "name": "stdout",
     "output_type": "stream",
     "text": [
      "\r",
      "glove.6B.zip.1        0%[                    ]  87.74K   251KB/s               ^C\n"
     ]
    }
   ],
   "source": [
    "##          DONT RUN THIS CELL\n",
    "!wget http://nlp.stanford.edu/data/glove.6B.zip"
   ]
  },
  {
   "cell_type": "code",
   "execution_count": null,
   "id": "-zDGbh0WF1u1",
   "metadata": {
    "id": "-zDGbh0WF1u1"
   },
   "outputs": [],
   "source": [
    "##          DONT RUN THIS CELL\n",
    "!unzip glove*.zip"
   ]
  },
  {
   "cell_type": "markdown",
   "id": "ifWbv3HifeZL",
   "metadata": {
    "id": "ifWbv3HifeZL"
   },
   "source": [
    "**Training of the LSTM NN**"
   ]
  },
  {
   "cell_type": "code",
   "execution_count": null,
   "id": "MLbyIt9zD5JZ",
   "metadata": {
    "id": "MLbyIt9zD5JZ"
   },
   "outputs": [],
   "source": [
    "##          DONT RUN THIS CELL\n",
    "\n",
    "# Load pre-trained GloVe word embeddings\n",
    "texts = partial_txt\n",
    "embedding_dict = {}\n",
    "with open('glove.6B.100d.txt', 'r', encoding='utf-8') as f:\n",
    "    for line in f:\n",
    "        values = line.split()\n",
    "        word = values[0]\n",
    "        vector = np.asarray(values[1:], dtype='float32')\n",
    "        embedding_dict[word] = vector\n",
    "\n",
    "# Define tokenizer and convert text to sequences\n",
    "tokenizer = Tokenizer()\n",
    "tokenizer.fit_on_texts(texts)\n",
    "sequences = tokenizer.texts_to_sequences(texts)\n",
    "\n",
    "# Pad sequences to a fixed length\n",
    "maxlen = 100\n",
    "padded_sequences = pad_sequences(sequences, maxlen=maxlen, padding='post')\n",
    "\n",
    "# Create embedding matrix for the tokenizer vocabulary\n",
    "num_words = len(tokenizer.word_index) + 1\n",
    "embedding_matrix = np.zeros((num_words, 100))\n",
    "for word, i in tokenizer.word_index.items():\n",
    "    embedding_vector = embedding_dict.get(word)\n",
    "    if embedding_vector is not None:\n",
    "        embedding_matrix[i] = embedding_vector"
   ]
  },
  {
   "cell_type": "code",
   "execution_count": null,
   "id": "2e2a8eb3",
   "metadata": {
    "id": "2e2a8eb3"
   },
   "outputs": [],
   "source": [
    "#Trained on google Collab, using GPU for faster training\n",
    "#so dont run this cell, run the below cell in which we have loaded the already trained model\n",
    "\n",
    "shape = (n_words,len(uniq_tokens))\n",
    "model = Sequential()\n",
    "\n",
    "model.add(Bidirectional(LSTM(128, return_sequences=True), input_shape=shape))\n",
    "model.add(Dropout(0.2))\n",
    "model.add(Bidirectional(LSTM(128)))\n",
    "model.add(Dense(len(uniq_tokens), kernel_regularizer=regularizers.l2(0.01)))\n",
    "model.add(Dropout(0.2))\n",
    "model.add(Dense(len(uniq_tokens)))\n",
    "model.add(Activation(\"softmax\"))\n",
    "model.compile(loss=\"categorical_crossentropy\",optimizer=RMSprop(learning_rate=0.001),metrics=[\"accuracy\"])\n",
    "early_stop = EarlyStopping(monitor='val_loss', patience=10)\n",
    "\n",
    "history = model.fit(X,Y,batch_size=128,validation_split=0.2,epochs=150,shuffle=True,callbacks=[early_stop])\n"
   ]
  },
  {
   "cell_type": "code",
   "execution_count": 5,
   "id": "2a64f879",
   "metadata": {
    "id": "2a64f879"
   },
   "outputs": [],
   "source": [
    "#model.save(\"generating_model_fial_versio.h5\") # 96.58 % accurate\n",
    "model = load_model(\"generating_model_v1.h5\")"
   ]
  },
  {
   "cell_type": "code",
   "execution_count": 6,
   "id": "bcc85841",
   "metadata": {
    "colab": {
     "base_uri": "https://localhost:8080/"
    },
    "id": "bcc85841",
    "outputId": "f3dd78e7-240b-48e9-e4ee-729c5ce81766"
   },
   "outputs": [
    {
     "name": "stdout",
     "output_type": "stream",
     "text": [
      "1/1 [==============================] - 1s 1s/step\n",
      "['against', 'public', 'barca', 'someday', 'footsteps', 'has', 'uplifts', 'iffhs', 'nollywood', 'managers']\n"
     ]
    }
   ],
   "source": [
    "##          RUN THIS CELL\n",
    "\n",
    "def predict_next_word(input_txt,n_best):\n",
    "    input_txt=input_txt.lower()\n",
    "    X=np.zeros((1,n_words,len(uniq_tokens)))\n",
    "    for i,word in enumerate(input_txt.split()):\n",
    "        X[0,1,uniq_tokens_idx[word]] = 1\n",
    "    predictions = model.predict(X)[0]\n",
    "    tuned_predictions = np.argpartition(predictions,-n_best)[-n_best:]\n",
    "    #print(len(predictions),\"\\n\",(tuned_predictions))\n",
    "    return np.argpartition(predictions,-n_best)[-n_best:]\n",
    "possible = predict_next_word(\"why messi is the best player of all time\",10)\n",
    "print([uniq_tokens[idx] for idx in possible])"
   ]
  },
  {
   "cell_type": "code",
   "execution_count": 7,
   "id": "f7c4c44b",
   "metadata": {
    "id": "f7c4c44b"
   },
   "outputs": [
    {
     "name": "stdout",
     "output_type": "stream",
     "text": [
      "1/1 [==============================] - 0s 37ms/step\n",
      "1/1 [==============================] - 0s 35ms/step\n",
      "1/1 [==============================] - 0s 33ms/step\n",
      "1/1 [==============================] - 0s 35ms/step\n",
      "1/1 [==============================] - 0s 35ms/step\n",
      "1/1 [==============================] - 0s 37ms/step\n",
      "1/1 [==============================] - 0s 35ms/step\n",
      "1/1 [==============================] - 0s 36ms/step\n",
      "1/1 [==============================] - 0s 35ms/step\n",
      "1/1 [==============================] - 0s 43ms/step\n",
      "1/1 [==============================] - 0s 47ms/step\n",
      "1/1 [==============================] - 0s 58ms/step\n",
      "1/1 [==============================] - 0s 43ms/step\n",
      "1/1 [==============================] - 0s 39ms/step\n",
      "1/1 [==============================] - 0s 43ms/step\n",
      "1/1 [==============================] - 0s 37ms/step\n",
      "1/1 [==============================] - 0s 37ms/step\n",
      "1/1 [==============================] - 0s 34ms/step\n",
      "1/1 [==============================] - 0s 36ms/step\n",
      "1/1 [==============================] - 0s 34ms/step\n",
      "1/1 [==============================] - 0s 36ms/step\n",
      "1/1 [==============================] - 0s 63ms/step\n",
      "1/1 [==============================] - 0s 43ms/step\n",
      "1/1 [==============================] - 0s 40ms/step\n",
      "1/1 [==============================] - 0s 40ms/step\n",
      "1/1 [==============================] - 0s 34ms/step\n",
      "1/1 [==============================] - 0s 44ms/step\n",
      "1/1 [==============================] - 0s 42ms/step\n",
      "1/1 [==============================] - 0s 75ms/step\n",
      "1/1 [==============================] - 0s 49ms/step\n",
      "1/1 [==============================] - 0s 36ms/step\n",
      "1/1 [==============================] - 0s 40ms/step\n",
      "1/1 [==============================] - 0s 59ms/step\n",
      "1/1 [==============================] - 0s 45ms/step\n",
      "1/1 [==============================] - 0s 38ms/step\n",
      "1/1 [==============================] - 0s 38ms/step\n",
      "1/1 [==============================] - 0s 58ms/step\n",
      "1/1 [==============================] - 0s 60ms/step\n",
      "1/1 [==============================] - 0s 36ms/step\n",
      "1/1 [==============================] - 0s 45ms/step\n",
      "1/1 [==============================] - 0s 43ms/step\n",
      "1/1 [==============================] - 0s 69ms/step\n",
      "1/1 [==============================] - 0s 65ms/step\n",
      "1/1 [==============================] - 0s 38ms/step\n",
      "1/1 [==============================] - 0s 45ms/step\n",
      "1/1 [==============================] - 0s 42ms/step\n",
      "1/1 [==============================] - 0s 48ms/step\n",
      "1/1 [==============================] - 0s 73ms/step\n",
      "1/1 [==============================] - 0s 70ms/step\n",
      "1/1 [==============================] - 0s 45ms/step\n",
      "why messi is the best player of all time iffhs has euros nightmare online leauge iam goo against ish nscc managers justgettingstarted managers worldcup gesture toonarmy williams managers notice ish better toonarmy toonarmy tsk italy euros outlet managers dna thee xbet iffhs justgettingstarted managers managers whathappenedtokendra italy ish nscc managers uplifts euros iam playmake nftart wicket managers justgettingstarted managers\n"
     ]
    }
   ],
   "source": [
    "##          RUN THIS CELL\n",
    "\n",
    "def generate_txt(input_txt,text_length,creativity=3):\n",
    "    word_sequence = input_txt.split()\n",
    "    current=0\n",
    "    for _ in range(text_length):\n",
    "        sub_sequence=\" \".join(tokenizer.tokenize(\" \".join(word_sequence).lower())[current:current+n_words])\n",
    "        try:\n",
    "            choice = uniq_tokens[np.random.choice(predict_next_word(sub_sequence,creativity))]\n",
    "        except:\n",
    "            print(\"except\")  \n",
    "            choice = np.random.choice(uniq_tokens)\n",
    "        word_sequence.append(choice)\n",
    "        current+=1\n",
    "    return \" \".join(word_sequence)\n",
    "outut = generate_txt(\"why messi is the best player of all time\",50,5)\n",
    "print(outut)"
   ]
  },
  {
   "cell_type": "code",
   "execution_count": null,
   "id": "EJFI4mt0mOgb",
   "metadata": {
    "colab": {
     "base_uri": "https://localhost:8080/",
     "height": 927
    },
    "id": "EJFI4mt0mOgb",
    "outputId": "6964d02f-d076-4579-c5ad-329b9885effb"
   },
   "outputs": [
    {
     "data": {
      "image/png": "[encoded data removed]",
      "text/plain": [
       "<Figure size 640x480 with 1 Axes>"
      ]
     },
     "metadata": {},
     "output_type": "display_data"
    },
    {
     "data": {
      "image/png": "[encoded data removed]",
      "text/plain": [
       "<Figure size 640x480 with 1 Axes>"
      ]
     },
     "metadata": {},
     "output_type": "display_data"
    }
   ],
   "source": [
    "import matplotlib.pyplot as plt\n",
    "\n",
    "# Train/validation accuracy\n",
    "plt.plot(history.history['accuracy'])\n",
    "plt.plot(history.history['val_accuracy'])\n",
    "plt.title('Model accuracy')\n",
    "plt.ylabel('Accuracy')\n",
    "plt.xlabel('Epoch')\n",
    "plt.legend(['Train', 'Validation'], loc='upper left')\n",
    "plt.show()\n",
    "\n",
    "# Train/validation loss\n",
    "plt.plot(history.history['loss'])\n",
    "plt.plot(history.history['val_loss'])\n",
    "plt.title('Model loss')\n",
    "plt.ylabel('Loss')\n",
    "plt.xlabel('Epoch')\n",
    "plt.legend(['Train', 'Validation'], loc='upper left')\n",
    "plt.show()\n"
   ]
  },
  {
   "cell_type": "markdown",
   "id": "-cKjRoOBxuwp",
   "metadata": {
    "id": "-cKjRoOBxuwp"
   },
   "source": [
    "# voice module"
   ]
  },
  {
   "cell_type": "code",
   "execution_count": null,
   "id": "CR6kutsAzjhJ",
   "metadata": {
    "colab": {
     "base_uri": "https://localhost:8080/"
    },
    "id": "CR6kutsAzjhJ",
    "outputId": "62cdf6ba-5518-41f1-dec7-c6c9a06ddb14"
   },
   "outputs": [
    {
     "name": "stdout",
     "output_type": "stream",
     "text": [
      "Installing collected packages: SpeechRecognition\n",
      "Successfully installed SpeechRecognition-3.10.0\n"
     ]
    }
   ],
   "source": [
    "pip install SpeechRecognition"
   ]
  },
  {
   "cell_type": "code",
   "execution_count": null,
   "id": "G7WbCRCwzy-t",
   "metadata": {
    "id": "G7WbCRCwzy-t"
   },
   "outputs": [],
   "source": [
    "pip install pyttsx3"
   ]
  },
  {
   "cell_type": "code",
   "execution_count": null,
   "id": "yO4jbAk-1KSf",
   "metadata": {
    "id": "yO4jbAk-1KSf"
   },
   "outputs": [],
   "source": [
    "!apt install libasound2-dev portaudio19-dev libportaudio2 libportaudiocpp0 ffmpeg"
   ]
  },
  {
   "cell_type": "code",
   "execution_count": null,
   "id": "0DT0HN2L0sVd",
   "metadata": {
    "id": "0DT0HN2L0sVd"
   },
   "outputs": [],
   "source": [
    "!pip install pyaudio"
   ]
  },
  {
   "cell_type": "code",
   "execution_count": 66,
   "id": "-SLUqhEbxvqW",
   "metadata": {
    "id": "-SLUqhEbxvqW"
   },
   "outputs": [],
   "source": [
    "import speech_recognition as sr\n",
    "import pyttsx3\n",
    "# Initialize the recognizer\n",
    "r = sr.Recognizer()\n",
    "\n",
    "# Initialize the text-to-speech engine\n",
    "engine = pyttsx3.init()\n",
    "# Set the voice to a different voice\n",
    "voices = engine.getProperty('voices')\n",
    "engine.setProperty('voice', voices[1].id)  # change the index to select a different voice\n"
   ]
  },
  {
   "cell_type": "code",
   "execution_count": 67,
   "id": "PJjs4wxsxyqa",
   "metadata": {
    "id": "PJjs4wxsxyqa"
   },
   "outputs": [],
   "source": [
    "def listen():\n",
    "    with sr.Microphone() as source:\n",
    "        print(\"Speak now:\")\n",
    "        audio = r.listen(source)\n",
    "    try:\n",
    "        text = r.recognize_google(audio)\n",
    "        print(\"You said:\", text)\n",
    "    except Exception as e:\n",
    "        print(\"Error:\", e)\n",
    "    return text\n",
    "def speak(text):        \n",
    "    engine.say(text)\n",
    "    engine.runAndWait()\n",
    "        "
   ]
  },
  {
   "cell_type": "code",
   "execution_count": 72,
   "id": "dukWUwbdxy8N",
   "metadata": {
    "colab": {
     "base_uri": "https://localhost:8080/",
     "height": 329
    },
    "id": "dukWUwbdxy8N",
    "outputId": "ba621d74-db01-48cc-ad0b-2aa0db9c5b81"
   },
   "outputs": [
    {
     "name": "stdout",
     "output_type": "stream",
     "text": [
      "Speak now:\n",
      "You said: why is Messi the best player\n",
      "1/1 [==============================] - 0s 34ms/step\n",
      "1/1 [==============================] - 0s 34ms/step\n",
      "1/1 [==============================] - 0s 32ms/step\n",
      "1/1 [==============================] - 0s 37ms/step\n",
      "1/1 [==============================] - 0s 32ms/step\n",
      "1/1 [==============================] - 0s 33ms/step\n",
      "1/1 [==============================] - 0s 34ms/step\n",
      "1/1 [==============================] - 0s 32ms/step\n",
      "1/1 [==============================] - 0s 33ms/step\n",
      "1/1 [==============================] - 0s 36ms/step\n",
      "1/1 [==============================] - 0s 33ms/step\n",
      "1/1 [==============================] - 0s 33ms/step\n",
      "1/1 [==============================] - 0s 33ms/step\n",
      "1/1 [==============================] - 0s 33ms/step\n",
      "1/1 [==============================] - 0s 34ms/step\n",
      "1/1 [==============================] - 0s 38ms/step\n",
      "1/1 [==============================] - 0s 33ms/step\n",
      "1/1 [==============================] - 0s 34ms/step\n",
      "1/1 [==============================] - 0s 36ms/step\n",
      "1/1 [==============================] - 0s 69ms/step\n",
      "1/1 [==============================] - 0s 82ms/step\n",
      "1/1 [==============================] - 0s 39ms/step\n",
      "1/1 [==============================] - 0s 37ms/step\n",
      "1/1 [==============================] - 0s 83ms/step\n",
      "1/1 [==============================] - 0s 35ms/step\n",
      "1/1 [==============================] - 0s 35ms/step\n",
      "1/1 [==============================] - 0s 34ms/step\n",
      "1/1 [==============================] - 0s 35ms/step\n",
      "1/1 [==============================] - 0s 33ms/step\n",
      "1/1 [==============================] - 0s 34ms/step\n",
      "1/1 [==============================] - 0s 36ms/step\n",
      "1/1 [==============================] - 0s 33ms/step\n",
      "1/1 [==============================] - 0s 34ms/step\n",
      "1/1 [==============================] - 0s 36ms/step\n",
      "1/1 [==============================] - 0s 34ms/step\n",
      "1/1 [==============================] - 0s 34ms/step\n",
      "1/1 [==============================] - 0s 33ms/step\n",
      "1/1 [==============================] - 0s 34ms/step\n",
      "1/1 [==============================] - 0s 33ms/step\n",
      "1/1 [==============================] - 0s 35ms/step\n",
      "1/1 [==============================] - 0s 34ms/step\n",
      "1/1 [==============================] - 0s 78ms/step\n",
      "1/1 [==============================] - 0s 39ms/step\n",
      "1/1 [==============================] - 0s 35ms/step\n",
      "1/1 [==============================] - 0s 38ms/step\n",
      "1/1 [==============================] - 0s 82ms/step\n",
      "1/1 [==============================] - 0s 37ms/step\n",
      "1/1 [==============================] - 0s 33ms/step\n",
      "1/1 [==============================] - 0s 32ms/step\n",
      "1/1 [==============================] - 0s 35ms/step\n"
     ]
    }
   ],
   "source": [
    "text_in = listen()\n",
    "text_out = generate_txt(text,50,5)\n",
    "speak(text_out)"
   ]
  },
  {
   "cell_type": "code",
   "execution_count": 73,
   "id": "bdcc1f3a",
   "metadata": {},
   "outputs": [
    {
     "data": {
      "text/plain": [
       "'why is Messi the best managers iam online ordinary online managers footsteps where footsteps stinker italy has nollywood teamates cp public dictating social narratives gospel iam playlist euros but nftart playlist nftart about nftart better six italy whathappenedtokendra yearly where managers nscc iam justgettingstarted social barca wicket scores barca managers his online and ran a'"
      ]
     },
     "execution_count": 73,
     "metadata": {},
     "output_type": "execute_result"
    }
   ],
   "source": [
    "text_out"
   ]
  },
  {
   "cell_type": "code",
   "execution_count": null,
   "id": "79298128",
   "metadata": {},
   "outputs": [],
   "source": []
  }
 ],
 "metadata": {
  "accelerator": "GPU",
  "colab": {
   "gpuType": "T4",
   "provenance": []
  },
  "gpuClass": "standard",
  "kernelspec": {
   "display_name": "Python 3 (ipykernel)",
   "language": "python",
   "name": "python3"
  },
  "language_info": {
   "codemirror_mode": {
    "name": "ipython",
    "version": 3
   },
   "file_extension": ".py",
   "mimetype": "text/x-python",
   "name": "python",
   "nbconvert_exporter": "python",
   "pygments_lexer": "ipython3",
   "version": "3.11.0"
  }
 },
 "nbformat": 4,
 "nbformat_minor": 5
}
